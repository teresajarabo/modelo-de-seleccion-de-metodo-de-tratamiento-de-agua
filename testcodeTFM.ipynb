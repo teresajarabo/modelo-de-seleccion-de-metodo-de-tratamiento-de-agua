{
 "cells": [
  {
   "cell_type": "code",
   "execution_count": 2,
   "id": "7619d1f3",
   "metadata": {},
   "outputs": [
    {
     "name": "stdout",
     "output_type": "stream",
     "text": [
      "¿Hay electricidad disponible? (Y o N) y\n",
      "¿Existe una red de distribución? (Y o N) y\n",
      "¿El edificio es de uso individual (I) o colectivo (C)? i\n",
      "¿Cuál es el número usual de usuarios?5\n",
      "Escoja la fuente de agua: Pozos\n",
      "Escoja los usos de suelo cercano: Ninguno\n",
      "¿El agua tiene un color o sabor particular? Ninguno\n",
      "¿Cuál es el pH del agua? 5\n",
      "['y', 'y', 'i', 5, 3, 2, 2]\n"
     ]
    },
    {
     "data": {
      "text/html": [
       "<div>\n",
       "<style scoped>\n",
       "    .dataframe tbody tr th:only-of-type {\n",
       "        vertical-align: middle;\n",
       "    }\n",
       "\n",
       "    .dataframe tbody tr th {\n",
       "        vertical-align: top;\n",
       "    }\n",
       "\n",
       "    .dataframe thead th {\n",
       "        text-align: right;\n",
       "    }\n",
       "</style>\n",
       "<table border=\"1\" class=\"dataframe\">\n",
       "  <thead>\n",
       "    <tr style=\"text-align: right;\">\n",
       "      <th></th>\n",
       "      <th>index</th>\n",
       "      <th>Metodo</th>\n",
       "      <th>Caudal</th>\n",
       "      <th>Electricidad</th>\n",
       "      <th>Uso de red</th>\n",
       "      <th>Uso del edificio</th>\n",
       "      <th>Calidad microbiologica</th>\n",
       "      <th>Calidad quimica</th>\n",
       "      <th>Turbiedad</th>\n",
       "    </tr>\n",
       "  </thead>\n",
       "  <tbody>\n",
       "    <tr>\n",
       "      <th>0</th>\n",
       "      <td>19</td>\n",
       "      <td>Filtracion por destilacion</td>\n",
       "      <td>80.0</td>\n",
       "      <td>2</td>\n",
       "      <td>0</td>\n",
       "      <td>0</td>\n",
       "      <td>4</td>\n",
       "      <td>4</td>\n",
       "      <td>4</td>\n",
       "    </tr>\n",
       "  </tbody>\n",
       "</table>\n",
       "</div>"
      ],
      "text/plain": [
       "   index                      Metodo  Caudal  Electricidad  Uso de red  \\\n",
       "0     19  Filtracion por destilacion    80.0             2           0   \n",
       "\n",
       "   Uso del edificio  Calidad microbiologica  Calidad quimica  Turbiedad  \n",
       "0                 0                       4                4          4  "
      ]
     },
     "execution_count": 2,
     "metadata": {},
     "output_type": "execute_result"
    }
   ],
   "source": [
    "import pandas as pd\n",
    "\n",
    "df = pd.read_csv('model_data.csv') # Base de datos\n",
    "df_fuente = pd.read_csv('fuente_agua.csv')\n",
    "df_suelos = pd.read_csv('uso_suelos.csv')\n",
    "df_color_sabor = pd.read_csv('color_sabor.csv')\n",
    "df_pH = pd.read_csv('pH_agua.csv')\n",
    "\n",
    "# Drop down menu -> No hay opción de equivocarse\n",
    "input_elec = input('¿Hay electricidad disponible? (Y o N) ')\n",
    "input_red = input('¿Existe una red de distribución? (Y o N) ')\n",
    "input_uso_edificio = input('¿El edificio es de uso individual (I) o colectivo (C)? ')\n",
    "input_usuarios = int(input('¿Cuál es el número usual de usuarios?' ))\n",
    "caudal = input_usuarios * 4\n",
    "\n",
    "# Preguntas relacionadas con la calidad:\n",
    "# Usar drop down menu -> cómo??\n",
    "# Incluir: 'De las siguientes opciones, escoja la que más se ajuste: '\n",
    "input_fuente = input('Escoja la fuente de agua: ')\n",
    "input_uso_suelos = input('Escoja los usos de suelo cercano: ') ## Más de una opción\n",
    "input_color_sabor = input('¿El agua tiene un color o sabor particular? ') ## Más de una opción\n",
    "input_pH = int(input('¿Cuál es el pH del agua? '))\n",
    "if input_pH < 6.5:\n",
    "    pH_agua = 'Acido'\n",
    "elif input_pH > 8.5:\n",
    "    pH_agua = 'Basico'\n",
    "else:\n",
    "    pH_agua = 'Neutro'\n",
    "\n",
    "# Función para buscar la calidad del agua\n",
    "## ¿Dar la opción de escoger más de una?\n",
    "def calcular_calidad(fuente, suelos, color_sabor, pH):\n",
    "    # Calidad microbiológica -> obtengo tablas de una fila\n",
    "    new_df_fuente = df_fuente.loc[df_fuente['Nombre'] == fuente]\n",
    "    new_df_suelos = df_suelos.loc[df_suelos['Nombre'] == suelos]\n",
    "    new_df_color_sabor = df_color_sabor.loc[df_color_sabor['Nombre'] == color_sabor]\n",
    "    new_df_pH = df_pH.loc[df_pH['Nombre'] == pH]\n",
    "\n",
    "    # microb está en la columna 3\n",
    "    microb = max(new_df_fuente.iloc[-1, 2], new_df_suelos.iloc[-1, 2], new_df_color_sabor.iloc[-1, 2], new_df_pH.iloc[-1, 2])\n",
    "    #microb = max(int(new_df_fuente.iloc[1, 2]), int(new_df_suelos.iloc[1, 2]), int(new_df_color_sabor.iloc[1, 2]), int(new_df_pH.iloc[1, 2]))\n",
    "    ## microb = max(new_df_fuente.iloc[1, 2], new_df_suelos.iloc[1:, 2], new_df_color_sabor.iloc[1:, 2], new_df_pH.iloc[1, 2])\n",
    "    # quimic está en la columna 4\n",
    "    quimic = max(new_df_fuente.iloc[-1, 3], new_df_suelos.iloc[-1, 3], new_df_color_sabor.iloc[-1, 3], new_df_pH.iloc[-1, 3])\n",
    "    ## quimic = max(new_df_fuente.iloc[1, 3], new_df_suelos.iloc[1:, 3], new_df_color_sabor.iloc[1:, 3], new_df_pH.iloc[1, 3])\n",
    "    # turb está en la columna 5\n",
    "    turb = max(new_df_fuente.iloc[-1, -1], new_df_suelos.iloc[-1, -1], new_df_color_sabor.iloc[-1, -1], new_df_pH.iloc[-1, -1])\n",
    "    ## turb = max(new_df_fuente.iloc[1, 4], new_df_suelos.iloc[1:, 4], new_df_color_sabor.iloc[1:, 4], new_df_pH.iloc[1, 4])\n",
    "    \n",
    "    return [microb, quimic, turb]\n",
    "\n",
    "calidad = calcular_calidad(input_fuente, input_uso_suelos, input_color_sabor, pH_agua)\n",
    "\n",
    "# Imprimir el resumen de los parámetros\n",
    "param_input = [input_elec, input_red, input_uso_edificio, input_usuarios] + calidad\n",
    "print(param_input)\n",
    "\n",
    "# Filtrar tabla de datos según los param_input\n",
    "# 0: No necesita x, Individual\n",
    "# 1: Necesita x, Colectivo\n",
    "# 2: Funciona con ambos, Ambos\n",
    "new_df = df\n",
    "\n",
    "if input_elec.upper() == 'N':\n",
    "    # Me quedo solo con los métodos que no usen electricidad o funcionen con ambos\n",
    "    new_df = new_df.loc[(df['Electricidad'] == 0) | (df['Electricidad'] == 2)]\n",
    "\n",
    "if input_red.upper() == 'N':\n",
    "    # Me quedo solo con los mét. que no necesiten red de distribución o funcionen con ambos\n",
    "    new_df = new_df.loc[(df['Uso de red'] == 0) | (df['Uso de red'] == 2)]\n",
    "\n",
    "if input_uso_edificio.upper() == 'I':\n",
    "    new_df = new_df.loc[(df['Uso del edificio'] == 0) | (df['Uso del edificio'] == 2)]\n",
    "else:\n",
    "    new_df = new_df.loc[(df['Uso del edificio'] == 1) | (df['Uso del edificio'] == 2)]\n",
    "\n",
    "new_df = new_df.loc[(new_df['Caudal'] >= caudal) & \n",
    "                    (new_df['Calidad microbiologica'] >= calidad[0]) & \n",
    "                    (new_df['Calidad quimica'] >= calidad[1]) & \n",
    "                    (new_df['Turbiedad'] >= calidad[2])]\n",
    "\n",
    "# Save in a modified .csv\n",
    "new_df = new_df.reset_index()\n",
    "new_df.to_csv('modified.csv', index=False)\n",
    "new_df\n",
    "\n",
    "## Filtrar una base de datos de salida que incluye instal, mantenim y precio para que el usuario pueda filtrar\n",
    "## Incluir la posibilidad de usar varios depósitos o filtros en paralelo... \n"
   ]
  },
  {
   "cell_type": "code",
   "execution_count": 12,
   "id": "09074726",
   "metadata": {},
   "outputs": [
    {
     "data": {
      "text/html": [
       "<div>\n",
       "<style scoped>\n",
       "    .dataframe tbody tr th:only-of-type {\n",
       "        vertical-align: middle;\n",
       "    }\n",
       "\n",
       "    .dataframe tbody tr th {\n",
       "        vertical-align: top;\n",
       "    }\n",
       "\n",
       "    .dataframe thead th {\n",
       "        text-align: right;\n",
       "    }\n",
       "</style>\n",
       "<table border=\"1\" class=\"dataframe\">\n",
       "  <thead>\n",
       "    <tr style=\"text-align: right;\">\n",
       "      <th></th>\n",
       "      <th>Nombre</th>\n",
       "      <th>Calidad microbiologica</th>\n",
       "      <th>Calidad quimica</th>\n",
       "      <th>Turbiedad</th>\n",
       "    </tr>\n",
       "  </thead>\n",
       "  <tbody>\n",
       "    <tr>\n",
       "      <th>0</th>\n",
       "      <td>Pozos</td>\n",
       "      <td>3</td>\n",
       "      <td>3</td>\n",
       "      <td>2</td>\n",
       "    </tr>\n",
       "  </tbody>\n",
       "</table>\n",
       "</div>"
      ],
      "text/plain": [
       "  Nombre  Calidad microbiologica  Calidad quimica  Turbiedad\n",
       "0  Pozos                       3                3          2"
      ]
     },
     "execution_count": 12,
     "metadata": {},
     "output_type": "execute_result"
    }
   ],
   "source": [
    "df_fuente.loc[df_fuente['Nombre'] == input_fuente]\n"
   ]
  },
  {
   "cell_type": "code",
   "execution_count": 23,
   "id": "8b9dfa7b",
   "metadata": {},
   "outputs": [
    {
     "data": {
      "text/plain": [
       "2"
      ]
     },
     "execution_count": 23,
     "metadata": {},
     "output_type": "execute_result"
    }
   ],
   "source": [
    "new_df_fuente.iloc[0, 3]"
   ]
  }
 ],
 "metadata": {
  "kernelspec": {
   "display_name": "Python 3 (ipykernel)",
   "language": "python",
   "name": "python3"
  },
  "language_info": {
   "codemirror_mode": {
    "name": "ipython",
    "version": 3
   },
   "file_extension": ".py",
   "mimetype": "text/x-python",
   "name": "python",
   "nbconvert_exporter": "python",
   "pygments_lexer": "ipython3",
   "version": "3.9.12"
  }
 },
 "nbformat": 4,
 "nbformat_minor": 5
}
